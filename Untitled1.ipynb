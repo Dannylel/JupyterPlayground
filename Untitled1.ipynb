{
 "cells": [
  {
   "cell_type": "code",
   "execution_count": 7,
   "id": "6bfda188",
   "metadata": {},
   "outputs": [
    {
     "ename": "ModuleNotFoundError",
     "evalue": "No module named 'PreProc'",
     "output_type": "error",
     "traceback": [
      "\u001b[1;31m---------------------------------------------------------------------------\u001b[0m",
      "\u001b[1;31mModuleNotFoundError\u001b[0m                       Traceback (most recent call last)",
      "Cell \u001b[1;32mIn[7], line 5\u001b[0m\n\u001b[0;32m      3\u001b[0m \u001b[38;5;28;01mimport\u001b[39;00m \u001b[38;5;21;01mmatplotlib\u001b[39;00m\u001b[38;5;21;01m.\u001b[39;00m\u001b[38;5;21;01mpyplot\u001b[39;00m \u001b[38;5;28;01mas\u001b[39;00m \u001b[38;5;21;01mplt\u001b[39;00m\n\u001b[0;32m      4\u001b[0m \u001b[38;5;28;01mimport\u001b[39;00m \u001b[38;5;21;01mseaborn\u001b[39;00m \u001b[38;5;28;01mas\u001b[39;00m \u001b[38;5;21;01msns\u001b[39;00m\n\u001b[1;32m----> 5\u001b[0m \u001b[38;5;28;01mimport\u001b[39;00m \u001b[38;5;21;01mPreProc\u001b[39;00m\u001b[38;5;21;01m.\u001b[39;00m\u001b[38;5;21;01mpy\u001b[39;00m\n",
      "\u001b[1;31mModuleNotFoundError\u001b[0m: No module named 'PreProc'"
     ]
    }
   ],
   "source": [
    "import numpy as np\n",
    "import pandas as pd \n",
    "import matplotlib.pyplot as plt\n",
    "import seaborn as sns\n",
    "import PreProc.py\n"
   ]
  },
  {
   "cell_type": "code",
   "execution_count": 8,
   "id": "038e8906",
   "metadata": {},
   "outputs": [
    {
     "name": "stdout",
     "output_type": "stream",
     "text": [
      "Requirement already satisfied: setuptools in c:\\users\\ritam\\documents\\playground\\lib\\site-packages (65.5.0)\n",
      "Requirement already satisfied: wheel in c:\\users\\ritam\\documents\\playground\\lib\\site-packages (0.40.0)\n",
      "Collecting twine\n",
      "  Downloading twine-4.0.2-py3-none-any.whl (36 kB)\n",
      "Collecting pkginfo>=1.8.1\n",
      "  Downloading pkginfo-1.9.6-py3-none-any.whl (30 kB)\n",
      "Collecting readme-renderer>=35.0\n",
      "  Downloading readme_renderer-40.0-py3-none-any.whl (14 kB)\n",
      "Requirement already satisfied: requests>=2.20 in c:\\users\\ritam\\documents\\playground\\lib\\site-packages (from twine) (2.29.0)\n",
      "Collecting requests-toolbelt!=0.9.0,>=0.8.0\n",
      "  Downloading requests_toolbelt-1.0.0-py2.py3-none-any.whl (54 kB)\n",
      "     ---------------------------------------- 54.5/54.5 kB 2.8 MB/s eta 0:00:00\n",
      "Requirement already satisfied: urllib3>=1.26.0 in c:\\users\\ritam\\documents\\playground\\lib\\site-packages (from twine) (1.26.15)\n",
      "Collecting importlib-metadata>=3.6\n",
      "  Downloading importlib_metadata-6.8.0-py3-none-any.whl (22 kB)\n",
      "Collecting keyring>=15.1\n",
      "  Downloading keyring-24.2.0-py3-none-any.whl (37 kB)\n",
      "Collecting rfc3986>=1.4.0\n",
      "  Downloading rfc3986-2.0.0-py2.py3-none-any.whl (31 kB)\n",
      "Collecting rich>=12.0.0\n",
      "  Downloading rich-13.5.2-py3-none-any.whl (239 kB)\n",
      "     -------------------------------------- 239.7/239.7 kB 1.5 MB/s eta 0:00:00\n",
      "Collecting zipp>=0.5\n",
      "  Downloading zipp-3.16.2-py3-none-any.whl (7.2 kB)\n",
      "Collecting jaraco.classes\n",
      "  Downloading jaraco.classes-3.3.0-py3-none-any.whl (5.9 kB)\n",
      "Collecting pywin32-ctypes>=0.2.0\n",
      "  Downloading pywin32_ctypes-0.2.2-py3-none-any.whl (30 kB)\n",
      "Requirement already satisfied: bleach>=2.1.0 in c:\\users\\ritam\\documents\\playground\\lib\\site-packages (from readme-renderer>=35.0->twine) (6.0.0)\n",
      "Collecting docutils>=0.13.1\n",
      "  Downloading docutils-0.20.1-py3-none-any.whl (572 kB)\n",
      "     -------------------------------------- 572.7/572.7 kB 1.8 MB/s eta 0:00:00\n",
      "Requirement already satisfied: Pygments>=2.5.1 in c:\\users\\ritam\\documents\\playground\\lib\\site-packages (from readme-renderer>=35.0->twine) (2.15.1)\n",
      "Requirement already satisfied: charset-normalizer<4,>=2 in c:\\users\\ritam\\documents\\playground\\lib\\site-packages (from requests>=2.20->twine) (3.1.0)\n",
      "Requirement already satisfied: idna<4,>=2.5 in c:\\users\\ritam\\documents\\playground\\lib\\site-packages (from requests>=2.20->twine) (3.4)\n",
      "Requirement already satisfied: certifi>=2017.4.17 in c:\\users\\ritam\\documents\\playground\\lib\\site-packages (from requests>=2.20->twine) (2022.12.7)\n",
      "Collecting markdown-it-py>=2.2.0\n",
      "  Downloading markdown_it_py-3.0.0-py3-none-any.whl (87 kB)\n",
      "     ---------------------------------------- 87.5/87.5 kB 1.6 MB/s eta 0:00:00\n",
      "Requirement already satisfied: six>=1.9.0 in c:\\users\\ritam\\documents\\playground\\lib\\site-packages (from bleach>=2.1.0->readme-renderer>=35.0->twine) (1.16.0)\n",
      "Requirement already satisfied: webencodings in c:\\users\\ritam\\documents\\playground\\lib\\site-packages (from bleach>=2.1.0->readme-renderer>=35.0->twine) (0.5.1)\n",
      "Collecting mdurl~=0.1\n",
      "  Downloading mdurl-0.1.2-py3-none-any.whl (10.0 kB)\n",
      "Collecting more-itertools\n",
      "  Downloading more_itertools-10.1.0-py3-none-any.whl (55 kB)\n",
      "     ---------------------------------------- 55.8/55.8 kB 2.8 MB/s eta 0:00:00\n",
      "Installing collected packages: zipp, rfc3986, pywin32-ctypes, pkginfo, more-itertools, mdurl, docutils, requests-toolbelt, readme-renderer, markdown-it-py, jaraco.classes, importlib-metadata, rich, keyring, twine\n",
      "Successfully installed docutils-0.20.1 importlib-metadata-6.8.0 jaraco.classes-3.3.0 keyring-24.2.0 markdown-it-py-3.0.0 mdurl-0.1.2 more-itertools-10.1.0 pkginfo-1.9.6 pywin32-ctypes-0.2.2 readme-renderer-40.0 requests-toolbelt-1.0.0 rfc3986-2.0.0 rich-13.5.2 twine-4.0.2 zipp-3.16.2\n"
     ]
    },
    {
     "name": "stderr",
     "output_type": "stream",
     "text": [
      "\n",
      "[notice] A new release of pip available: 22.3.1 -> 23.2.1\n",
      "[notice] To update, run: python.exe -m pip install --upgrade pip\n"
     ]
    }
   ],
   "source": [
    "! pip install setuptools wheel twine\n"
   ]
  },
  {
   "cell_type": "code",
   "execution_count": null,
   "id": "c5712ef6",
   "metadata": {},
   "outputs": [],
   "source": []
  }
 ],
 "metadata": {
  "kernelspec": {
   "display_name": "Python 3 (ipykernel)",
   "language": "python",
   "name": "python3"
  },
  "language_info": {
   "codemirror_mode": {
    "name": "ipython",
    "version": 3
   },
   "file_extension": ".py",
   "mimetype": "text/x-python",
   "name": "python",
   "nbconvert_exporter": "python",
   "pygments_lexer": "ipython3",
   "version": "3.11.3"
  }
 },
 "nbformat": 4,
 "nbformat_minor": 5
}
