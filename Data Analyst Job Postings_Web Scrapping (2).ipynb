{
 "cells": [
  {
   "cell_type": "code",
   "execution_count": 10,
   "id": "98b6dadc",
   "metadata": {},
   "outputs": [],
   "source": [
    "import numpy as np\n",
    "import pandas as pd \n",
    "import matplotlib.pyplot as plt\n",
    "import seaborn as sns"
   ]
  },
  {
   "cell_type": "code",
   "execution_count": 18,
   "id": "7640a18a",
   "metadata": {},
   "outputs": [],
   "source": [
    "import requests\n",
    "from bs4 import BeautifulSoup \n"
   ]
  },
  {
   "cell_type": "code",
   "execution_count": 50,
   "id": "48a591b6",
   "metadata": {},
   "outputs": [],
   "source": [
    "def url_gen(url):\n",
    "    \n",
    "    URL = url\n",
    "    page = requests.get(URL)\n",
    "    #returning soup object based on the url\n",
    "    soup = BeautifulSoup(page.content, \"html.parser\")\n",
    "    return soup"
   ]
  },
  {
   "cell_type": "code",
   "execution_count": 52,
   "id": "294add86",
   "metadata": {},
   "outputs": [],
   "source": [
    "soup=url_gen(\"https://realpython.github.io/fake-jobs/\")"
   ]
  },
  {
   "cell_type": "code",
   "execution_count": 41,
   "id": "6788dd75",
   "metadata": {},
   "outputs": [],
   "source": []
  },
  {
   "cell_type": "code",
   "execution_count": 28,
   "id": "0a25b47a",
   "metadata": {},
   "outputs": [],
   "source": [
    "#next step is to generalize the functions to work with indeed & other websites\n",
    "ID=\"ResultsContainer\""
   ]
  },
  {
   "cell_type": "code",
   "execution_count": 32,
   "id": "4c5db6bf",
   "metadata": {},
   "outputs": [],
   "source": [
    "def result_retriever(ID,soup):\n",
    "\n",
    "    results= soup.find(ID)\n",
    "    python_jobs = results.find_all(\n",
    "        \"h2\", string=lambda text: \"python\" in text.lower()\n",
    "    )\n",
    "    python_job_elements = [\n",
    "        h2_element.parent.parent.parent for h2_element in python_jobs\n",
    "    ]"
   ]
  },
  {
   "cell_type": "code",
   "execution_count": null,
   "id": "1ccc9681",
   "metadata": {},
   "outputs": [],
   "source": []
  },
  {
   "cell_type": "code",
   "execution_count": 43,
   "id": "b94847ec",
   "metadata": {},
   "outputs": [
    {
     "name": "stdout",
     "output_type": "stream",
     "text": [
      "Senior Python Developer\n",
      "Payne, Roberts and Davis\n",
      "Stewartbury, AA\n",
      "Software Engineer (Python)\n",
      "Garcia PLC\n",
      "Ericberg, AE\n",
      "Python Programmer (Entry-Level)\n",
      "Moss, Duncan and Allen\n",
      "Port Sara, AE\n",
      "Python Programmer (Entry-Level)\n",
      "Cooper and Sons\n",
      "West Victor, AE\n",
      "Software Developer (Python)\n",
      "Adams-Brewer\n",
      "Brockburgh, AE\n",
      "Python Developer\n",
      "Rivera and Sons\n",
      "East Michaelfort, AA\n",
      "Back-End Web Developer (Python, Django)\n",
      "Stewart-Alexander\n",
      "South Kimberly, AA\n",
      "Back-End Web Developer (Python, Django)\n",
      "Jackson, Ali and Mckee\n",
      "New Elizabethside, AA\n",
      "Python Programmer (Entry-Level)\n",
      "Mathews Inc\n",
      "Robertborough, AP\n",
      "Software Developer (Python)\n",
      "Moreno-Rodriguez\n",
      "Martinezburgh, AE\n",
      "10\n"
     ]
    }
   ],
   "source": [
    "def job_details_extract(python_job_elements)\n",
    "title_list=[]\n",
    "location_list=[]\n",
    "company_list=[]\n",
    "\n",
    "for job_element in python_job_elements:\n",
    "    title_element = job_element.find(\"h2\", class_=\"title\")\n",
    "    company_element = job_element.find(\"h3\", class_=\"company\")\n",
    "    location_element = job_element.find(\"p\", class_=\"location\")\n",
    "    title_list.append(title_element.text.strip())\n",
    "    location_list.append(location_element.text.strip())\n",
    "    company_list.append(company_element.text.strip())\n",
    "    \n",
    "    print(title_element.text.strip())\n",
    "    print(company_element.text.strip())\n",
    "    print(location_element.text.strip())\n",
    "    #export to csv add new row for job details \n",
    "print(len(python_job_elements))"
   ]
  },
  {
   "cell_type": "code",
   "execution_count": 45,
   "id": "2e34ecc0",
   "metadata": {},
   "outputs": [
    {
     "name": "stdout",
     "output_type": "stream",
     "text": [
      "['Stewartbury, AA', 'Ericberg, AE', 'Port Sara, AE', 'West Victor, AE', 'Brockburgh, AE', 'East Michaelfort, AA', 'South Kimberly, AA', 'New Elizabethside, AA', 'Robertborough, AP', 'Martinezburgh, AE']\n",
      "['Senior Python Developer', 'Software Engineer (Python)', 'Python Programmer (Entry-Level)', 'Python Programmer (Entry-Level)', 'Software Developer (Python)', 'Python Developer', 'Back-End Web Developer (Python, Django)', 'Back-End Web Developer (Python, Django)', 'Python Programmer (Entry-Level)', 'Software Developer (Python)']\n",
      "['Payne, Roberts and Davis', 'Garcia PLC', 'Moss, Duncan and Allen', 'Cooper and Sons', 'Adams-Brewer', 'Rivera and Sons', 'Stewart-Alexander', 'Jackson, Ali and Mckee', 'Mathews Inc', 'Moreno-Rodriguez']\n"
     ]
    }
   ],
   "source": [
    "print(location_list)\n",
    "print(title_list)\n",
    "print(company_list)"
   ]
  },
  {
   "cell_type": "code",
   "execution_count": 47,
   "id": "9511d8f8",
   "metadata": {},
   "outputs": [
    {
     "data": {
      "text/html": [
       "<div>\n",
       "<style scoped>\n",
       "    .dataframe tbody tr th:only-of-type {\n",
       "        vertical-align: middle;\n",
       "    }\n",
       "\n",
       "    .dataframe tbody tr th {\n",
       "        vertical-align: top;\n",
       "    }\n",
       "\n",
       "    .dataframe thead th {\n",
       "        text-align: right;\n",
       "    }\n",
       "</style>\n",
       "<table border=\"1\" class=\"dataframe\">\n",
       "  <thead>\n",
       "    <tr style=\"text-align: right;\">\n",
       "      <th></th>\n",
       "      <th>title</th>\n",
       "      <th>location</th>\n",
       "      <th>company</th>\n",
       "    </tr>\n",
       "  </thead>\n",
       "  <tbody>\n",
       "    <tr>\n",
       "      <th>0</th>\n",
       "      <td>Senior Python Developer</td>\n",
       "      <td>Stewartbury, AA</td>\n",
       "      <td>Payne, Roberts and Davis</td>\n",
       "    </tr>\n",
       "    <tr>\n",
       "      <th>1</th>\n",
       "      <td>Software Engineer (Python)</td>\n",
       "      <td>Ericberg, AE</td>\n",
       "      <td>Garcia PLC</td>\n",
       "    </tr>\n",
       "    <tr>\n",
       "      <th>2</th>\n",
       "      <td>Python Programmer (Entry-Level)</td>\n",
       "      <td>Port Sara, AE</td>\n",
       "      <td>Moss, Duncan and Allen</td>\n",
       "    </tr>\n",
       "    <tr>\n",
       "      <th>3</th>\n",
       "      <td>Python Programmer (Entry-Level)</td>\n",
       "      <td>West Victor, AE</td>\n",
       "      <td>Cooper and Sons</td>\n",
       "    </tr>\n",
       "    <tr>\n",
       "      <th>4</th>\n",
       "      <td>Software Developer (Python)</td>\n",
       "      <td>Brockburgh, AE</td>\n",
       "      <td>Adams-Brewer</td>\n",
       "    </tr>\n",
       "  </tbody>\n",
       "</table>\n",
       "</div>"
      ],
      "text/plain": [
       "                             title         location                   company\n",
       "0          Senior Python Developer  Stewartbury, AA  Payne, Roberts and Davis\n",
       "1       Software Engineer (Python)     Ericberg, AE                Garcia PLC\n",
       "2  Python Programmer (Entry-Level)    Port Sara, AE    Moss, Duncan and Allen\n",
       "3  Python Programmer (Entry-Level)  West Victor, AE           Cooper and Sons\n",
       "4      Software Developer (Python)   Brockburgh, AE              Adams-Brewer"
      ]
     },
     "execution_count": 47,
     "metadata": {},
     "output_type": "execute_result"
    }
   ],
   "source": [
    "\n",
    "df=pd.DataFrame({'title': title_list,'location':location_list,'company':company_list})\n",
    "df.head()"
   ]
  },
  {
   "cell_type": "markdown",
   "id": "b2424f65",
   "metadata": {},
   "source": [
    "# Checking for missing/wrong values"
   ]
  },
  {
   "cell_type": "code",
   "execution_count": null,
   "id": "ab45f359",
   "metadata": {},
   "outputs": [],
   "source": []
  },
  {
   "cell_type": "code",
   "execution_count": null,
   "id": "e9656285",
   "metadata": {},
   "outputs": [],
   "source": []
  },
  {
   "cell_type": "code",
   "execution_count": 53,
   "id": "f991d9d9",
   "metadata": {},
   "outputs": [],
   "source": [
    "#create functions for job element generation & exporting to csv\n",
    "#repeat for Indeed.com\n",
    "#look for returnships & apply to the intel one"
   ]
  },
  {
   "cell_type": "markdown",
   "id": "98bda96d",
   "metadata": {},
   "source": [
    "# Exporting to CSV"
   ]
  },
  {
   "cell_type": "code",
   "execution_count": 16,
   "id": "88f5d3de",
   "metadata": {},
   "outputs": [],
   "source": [
    "#function to get all application links \n",
    "def get_application_url():\n",
    "    \n",
    "    for job_element in python_job_elements:\n",
    "    # -- snip --\n",
    "        link_url = job_element.find_all(\"a\")[1]['href']\n",
    "    \n",
    "    print(f\"Apply here: {link_url}\\n\")"
   ]
  },
  {
   "cell_type": "code",
   "execution_count": null,
   "id": "77fdaf3f",
   "metadata": {},
   "outputs": [],
   "source": []
  }
 ],
 "metadata": {
  "kernelspec": {
   "display_name": "Python 3 (ipykernel)",
   "language": "python",
   "name": "python3"
  },
  "language_info": {
   "codemirror_mode": {
    "name": "ipython",
    "version": 3
   },
   "file_extension": ".py",
   "mimetype": "text/x-python",
   "name": "python",
   "nbconvert_exporter": "python",
   "pygments_lexer": "ipython3",
   "version": "3.11.3"
  }
 },
 "nbformat": 4,
 "nbformat_minor": 5
}
