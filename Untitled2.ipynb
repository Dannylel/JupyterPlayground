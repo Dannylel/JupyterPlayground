{
 "cells": [
  {
   "cell_type": "code",
   "execution_count": 3,
   "id": "07e19e26",
   "metadata": {},
   "outputs": [],
   "source": [
    "import numpy as np\n",
    "import pandas as pd \n",
    "import matplotlib.pyplot as plt\n",
    "import seaborn as sns"
   ]
  },
  {
   "cell_type": "code",
   "execution_count": 4,
   "id": "1e61c018",
   "metadata": {},
   "outputs": [],
   "source": [
    "class PreProcessing():\n",
    "    def __init__(self, df : pd.DataFrame = pd.DataFrame) :\n",
    "        self.df = df\n",
    "        \n",
    "    \n",
    "    def Information (self , df) :\n",
    "        self.df = df\n",
    "        df.replace('?' , np.nan , inplace = True )\n",
    "        nulls = (df.shape[0] - df.dropna(axis = 0).shape[0])\n",
    "        nulls_per = (df.shape[0] - df.dropna(axis = 0).shape[0])*100 / df.shape[0]\n",
    "        dup , dup_per = df.duplicated().sum() , (df.duplicated().sum()*100) / df.shape[0]\n",
    "        numerical_columns = list((df.select_dtypes(include=np.number)).columns)\n",
    "        categorical_columns = list(df.select_dtypes(include = ['object']).columns)\n",
    "        numerical_col_dict = {}\n",
    "        for col in numerical_columns :\n",
    "            if df[col].nunique() > 10 :\n",
    "                numerical_col_dict[col] = 'Continuous' \n",
    "\n",
    "            else :\n",
    "                numerical_col_dict[col] = 'Discrete'\n",
    "        categorical_col_dict = {}\n",
    "        for col in categorical_columns :\n",
    "            if df[col].nunique() > 10 :\n",
    "                categorical_col_dict[col] = 'Continuous' \n",
    "\n",
    "            else :\n",
    "                categorical_col_dict[col] = 'Classes'\n",
    "        x = []\n",
    "        for col in df.columns : \n",
    "            x.append([col , df[col].unique() ,df[col].nunique(),df[col].dtype,df[col].isna().sum(),int((df[col].isna().sum())/df.shape[0] * 100)  ])\n",
    "\n",
    "        x = pd.DataFrame(x ,columns=['Feature','Unique_Values','No.OfUniqueValues','DataType','NoOfNulls','Nulls %'])\n",
    "        \n",
    "        print('\\n','There is : {}  Nulls, Representing {} % of The Data'.format(nulls , '%.2f'%nulls_per ))\n",
    "        print('\\n','There is : {}  Duplicated, Representing {} % of The Data'.format(dup , '%.2f'%dup_per))\n",
    "        print('\\n','Numerical Columns : {}'.format(numerical_col_dict))\n",
    "        print('\\n','Categorical Columns : {}'.format(categorical_col_dict))\n",
    "        \n",
    "        return x\n",
    "    \n",
    "    def ImputeNulls(self , df , col_method : dict = {} ,col_value = {} ,type_method : dict = {} ) :\n",
    "        self.df = df\n",
    "        self.col_method = col_method\n",
    "        self.type_method = type_method\n",
    "        self.col_value = col_value\n",
    "        df_copy = df.copy(deep = True)\n",
    "        if len(col_method) == 0 & len(type_method) == 0  : \n",
    "            numerical_columns = list((df_copy.select_dtypes(include=np.number)).columns)\n",
    "            categorical_columns = list(df_copy.select_dtypes(include = ['object']).columns)\n",
    "\n",
    "            for col in numerical_columns :\n",
    "                df_copy[col] = df_copy[col].interpolate()\n",
    "                \n",
    "            df_copy[categorical_columns] = df_copy[categorical_columns].apply(lambda x:x.fillna(x.value_counts().index[0]))\n",
    "    \n",
    "                \n",
    "        if len(col_method) != 0 :\n",
    "            for col in col_method.keys() :\n",
    "                df_copy[col] = df_copy[col].fillna(method = col_method[col])\n",
    "        \n",
    "        if len(col_value) != 0 :\n",
    "            for col in col_value.keys() :\n",
    "                df_copy[col] = df_copy[col].fillna(value = col_value[col])\n",
    "        \n",
    "        if len(type_method) != 0 :\n",
    "            numerical_columns = list((df_copy.select_dtypes(include=np.number)).columns)\n",
    "            categorical_columns = list(df_copy.select_dtypes(include = ['object']).columns)\n",
    "            for col in numerical_columns :\n",
    "                df_copy[col] = df_copy[col].fillna(method = type_method['int'])\n",
    "                \n",
    "            for col in categorical_columns :\n",
    "                df_copy[col] = df_copy[col].fillna(method = type_method['object'])\n",
    "                \n",
    "        return df_copy\n",
    "    \n",
    "    \n",
    "    def Oultiers(self , df , display = False , drop = False , drop_order = 1 ,columns_to_display = [], columns_to_drop = []) :\n",
    "        self.df = df\n",
    "        self.display = display\n",
    "        self.drop = drop\n",
    "        self.drop_order = drop_order\n",
    "        self.columns_to_display = columns_to_display\n",
    "        self.columns_to_drop = columns_to_drop\n",
    "        df_copy = df.copy(deep = True)\n",
    "        numerical_columns = list((df_copy.select_dtypes(include=np.number)).columns)\n",
    "\n",
    "\n",
    "        if display == True :\n",
    "            if (len(columns_to_display) != 0) :\n",
    "                numerical_columns = columns_to_display\n",
    "            from math import ceil\n",
    "            x = ceil(len(numerical_columns)/2)\n",
    "            if len(numerical_columns) >= 24 :\n",
    "                fig = plt.figure(figsize=(128,96))\n",
    "            else : \n",
    "                fig = plt.figure(figsize=(24, 12))\n",
    "\n",
    "            sns.set_theme(style=\"whitegrid\", palette=\"pastel\")\n",
    "            plt.subplots_adjust(hspace=0.5)\n",
    "            subfigs = fig.subfigures(len(numerical_columns), 1)\n",
    "            for idx , i in enumerate(numerical_columns) :\n",
    "                (ax1, ax2) = subfigs[idx].subplots(1, 2)\n",
    "                sns.boxplot(x = df_copy[i] ,data = df_copy , ax = ax1 )\n",
    "                sns.histplot(x = df_copy[i], kde=True , ax = ax2 )\n",
    "                subfigs[idx].subplots_adjust(bottom=0.5, right=0.8, top=0.75)\n",
    "                ax1.set_title(i)\n",
    "                ax2.set_title(i)\n",
    "\n",
    "        if drop == True :\n",
    "            if (len(columns_to_drop) != 0) :\n",
    "                numerical_columns = columns_to_drop\n",
    "            elif drop_order < 1 :\n",
    "                drop_order = 1\n",
    "\n",
    "            import scipy.stats as stats\n",
    "\n",
    "            while drop_order != 0 :\n",
    "                for col in  numerical_columns :\n",
    "                    p_value = stats.normaltest(df_copy[col])\n",
    "                    if p_value[1] >= .05 :                                      ## col is normally distributed\n",
    "                        filt = (df_copy[col]-df_copy[col].mean())/df_copy[col].std()\n",
    "                        indexes = (filt[filt > 3]).index\n",
    "                        df_copy.drop(indexes , inplace = True )\n",
    "                        df_copy.reset_index(drop=True , inplace=True)\n",
    "\n",
    "                    else :                                                     ## col is Skewed \n",
    "\n",
    "                        q1 = df_copy[col].quantile(0.25)\n",
    "                        q3 = df_copy[col].quantile(0.75)\n",
    "                        iqr = q3 - q1\n",
    "                        lower = q1 - 1.5*iqr\n",
    "                        if lower < 0 :\n",
    "                            lower = 0\n",
    "                        higher = q3 + 1.5*iqr\n",
    "                        df_copy = df_copy [df_copy[col] >= lower] \n",
    "                        df_copy = df_copy [df_copy[col] <= higher ]\n",
    "                        df_copy.reset_index(drop=True , inplace=True)\n",
    "\n",
    "                drop_order = drop_order - 1\n",
    "                \n",
    "        return df_copy\n",
    "\n",
    "       \n",
    "        \n",
    "    def Encode_Categorical(self , df , col_method={} ,one_hot = False , labeling = False ,defult = False ) :\n",
    "        self.df = df \n",
    "        self.one_hot = one_hot\n",
    "        self.labeling = labeling\n",
    "        self.col_method = col_method\n",
    "        df_copy = df.copy(deep = True)\n",
    "        from sklearn import preprocessing\n",
    "        \n",
    "        if len(col_method) != 0 :\n",
    "            label_cols = []\n",
    "            one_hot_cols = []\n",
    "            \n",
    "            for col in col_method.keys() :\n",
    "                if 'label' in col_method[col] :\n",
    "                    label_cols.append(col)\n",
    "                else :\n",
    "                    one_hot_cols.append(col)\n",
    "            if len(label_cols) !=0 :\n",
    "                label_encoder = preprocessing.LabelEncoder()\n",
    "                for col in label_cols :\n",
    "                    df_copy[col]= label_encoder.fit_transform(df_copy[col])\n",
    "            if len(one_hot_cols) !=0 :\n",
    "                dummies = pd.get_dummies(one_hot_cols , drop_first=True)\n",
    "                df_copy.drop(one_hot_cols,axis=1,inplace=True)\n",
    "                df_copy = df_copy.join(dummies)\n",
    "\n",
    "        \n",
    "        elif defult == True :\n",
    "            categorical_columns = list(df_copy.select_dtypes(include = ['object']).columns)\n",
    "            one_hot_encoding = []\n",
    "            label_encoder = preprocessing.LabelEncoder()\n",
    "            for col in categorical_columns :\n",
    "                if df_copy[col].nunique() < 20 :\n",
    "                    one_hot_encoding.append(col)\n",
    "                    \n",
    "                else :\n",
    "                    df_copy[col]= label_encoder.fit_transform(df_copy[col])\n",
    "                    \n",
    "            df_copy = pd.get_dummies(df_copy , drop_first=True)\n",
    "                    \n",
    "                \n",
    "                    \n",
    "        \n",
    "        elif one_hot == True :\n",
    "            df_copy = pd.get_dummies(df_copy , drop_first=True)\n",
    "            \n",
    "        elif labeling == True :\n",
    "            from sklearn import preprocessing\n",
    "            label_encoder = preprocessing.LabelEncoder()\n",
    "            for col in df_copy.columns :\n",
    "                df_copy[col]= label_encoder.fit_transform(df_copy[col])\n",
    "                \n",
    "                \n",
    "        return df_copy\n",
    "    \n",
    "    \n"
   ]
  },
  {
   "cell_type": "code",
   "execution_count": 5,
   "id": "75e0b8db",
   "metadata": {},
   "outputs": [],
   "source": [
    "pre=PreProcessing()"
   ]
  },
  {
   "cell_type": "code",
   "execution_count": 7,
   "id": "2780b309",
   "metadata": {},
   "outputs": [
    {
     "ename": "FileNotFoundError",
     "evalue": "[Errno 2] No such file or directory: 'application_record.csv'",
     "output_type": "error",
     "traceback": [
      "\u001b[1;31m---------------------------------------------------------------------------\u001b[0m",
      "\u001b[1;31mFileNotFoundError\u001b[0m                         Traceback (most recent call last)",
      "\u001b[1;32m~\\AppData\\Local\\Temp/ipykernel_19824/1580929977.py\u001b[0m in \u001b[0;36m<module>\u001b[1;34m\u001b[0m\n\u001b[1;32m----> 1\u001b[1;33m \u001b[0mdf\u001b[0m\u001b[1;33m=\u001b[0m\u001b[0mpd\u001b[0m\u001b[1;33m.\u001b[0m\u001b[0mread_csv\u001b[0m\u001b[1;33m(\u001b[0m\u001b[1;34m'application_record.csv'\u001b[0m\u001b[1;33m)\u001b[0m\u001b[1;33m\u001b[0m\u001b[1;33m\u001b[0m\u001b[0m\n\u001b[0m\u001b[0;32m      2\u001b[0m \u001b[0mdf\u001b[0m\u001b[1;33m.\u001b[0m\u001b[0minfo\u001b[0m\u001b[1;33m(\u001b[0m\u001b[1;33m)\u001b[0m\u001b[1;33m\u001b[0m\u001b[1;33m\u001b[0m\u001b[0m\n",
      "\u001b[1;32md:\\machine learning\\amit\\playground\\first_env\\lib\\site-packages\\pandas\\util\\_decorators.py\u001b[0m in \u001b[0;36mwrapper\u001b[1;34m(*args, **kwargs)\u001b[0m\n\u001b[0;32m    309\u001b[0m                     \u001b[0mstacklevel\u001b[0m\u001b[1;33m=\u001b[0m\u001b[0mstacklevel\u001b[0m\u001b[1;33m,\u001b[0m\u001b[1;33m\u001b[0m\u001b[1;33m\u001b[0m\u001b[0m\n\u001b[0;32m    310\u001b[0m                 )\n\u001b[1;32m--> 311\u001b[1;33m             \u001b[1;32mreturn\u001b[0m \u001b[0mfunc\u001b[0m\u001b[1;33m(\u001b[0m\u001b[1;33m*\u001b[0m\u001b[0margs\u001b[0m\u001b[1;33m,\u001b[0m \u001b[1;33m**\u001b[0m\u001b[0mkwargs\u001b[0m\u001b[1;33m)\u001b[0m\u001b[1;33m\u001b[0m\u001b[1;33m\u001b[0m\u001b[0m\n\u001b[0m\u001b[0;32m    312\u001b[0m \u001b[1;33m\u001b[0m\u001b[0m\n\u001b[0;32m    313\u001b[0m         \u001b[1;32mreturn\u001b[0m \u001b[0mwrapper\u001b[0m\u001b[1;33m\u001b[0m\u001b[1;33m\u001b[0m\u001b[0m\n",
      "\u001b[1;32md:\\machine learning\\amit\\playground\\first_env\\lib\\site-packages\\pandas\\io\\parsers\\readers.py\u001b[0m in \u001b[0;36mread_csv\u001b[1;34m(filepath_or_buffer, sep, delimiter, header, names, index_col, usecols, squeeze, prefix, mangle_dupe_cols, dtype, engine, converters, true_values, false_values, skipinitialspace, skiprows, skipfooter, nrows, na_values, keep_default_na, na_filter, verbose, skip_blank_lines, parse_dates, infer_datetime_format, keep_date_col, date_parser, dayfirst, cache_dates, iterator, chunksize, compression, thousands, decimal, lineterminator, quotechar, quoting, doublequote, escapechar, comment, encoding, encoding_errors, dialect, error_bad_lines, warn_bad_lines, on_bad_lines, delim_whitespace, low_memory, memory_map, float_precision, storage_options)\u001b[0m\n\u001b[0;32m    584\u001b[0m     \u001b[0mkwds\u001b[0m\u001b[1;33m.\u001b[0m\u001b[0mupdate\u001b[0m\u001b[1;33m(\u001b[0m\u001b[0mkwds_defaults\u001b[0m\u001b[1;33m)\u001b[0m\u001b[1;33m\u001b[0m\u001b[1;33m\u001b[0m\u001b[0m\n\u001b[0;32m    585\u001b[0m \u001b[1;33m\u001b[0m\u001b[0m\n\u001b[1;32m--> 586\u001b[1;33m     \u001b[1;32mreturn\u001b[0m \u001b[0m_read\u001b[0m\u001b[1;33m(\u001b[0m\u001b[0mfilepath_or_buffer\u001b[0m\u001b[1;33m,\u001b[0m \u001b[0mkwds\u001b[0m\u001b[1;33m)\u001b[0m\u001b[1;33m\u001b[0m\u001b[1;33m\u001b[0m\u001b[0m\n\u001b[0m\u001b[0;32m    587\u001b[0m \u001b[1;33m\u001b[0m\u001b[0m\n\u001b[0;32m    588\u001b[0m \u001b[1;33m\u001b[0m\u001b[0m\n",
      "\u001b[1;32md:\\machine learning\\amit\\playground\\first_env\\lib\\site-packages\\pandas\\io\\parsers\\readers.py\u001b[0m in \u001b[0;36m_read\u001b[1;34m(filepath_or_buffer, kwds)\u001b[0m\n\u001b[0;32m    480\u001b[0m \u001b[1;33m\u001b[0m\u001b[0m\n\u001b[0;32m    481\u001b[0m     \u001b[1;31m# Create the parser.\u001b[0m\u001b[1;33m\u001b[0m\u001b[1;33m\u001b[0m\u001b[1;33m\u001b[0m\u001b[0m\n\u001b[1;32m--> 482\u001b[1;33m     \u001b[0mparser\u001b[0m \u001b[1;33m=\u001b[0m \u001b[0mTextFileReader\u001b[0m\u001b[1;33m(\u001b[0m\u001b[0mfilepath_or_buffer\u001b[0m\u001b[1;33m,\u001b[0m \u001b[1;33m**\u001b[0m\u001b[0mkwds\u001b[0m\u001b[1;33m)\u001b[0m\u001b[1;33m\u001b[0m\u001b[1;33m\u001b[0m\u001b[0m\n\u001b[0m\u001b[0;32m    483\u001b[0m \u001b[1;33m\u001b[0m\u001b[0m\n\u001b[0;32m    484\u001b[0m     \u001b[1;32mif\u001b[0m \u001b[0mchunksize\u001b[0m \u001b[1;32mor\u001b[0m \u001b[0miterator\u001b[0m\u001b[1;33m:\u001b[0m\u001b[1;33m\u001b[0m\u001b[1;33m\u001b[0m\u001b[0m\n",
      "\u001b[1;32md:\\machine learning\\amit\\playground\\first_env\\lib\\site-packages\\pandas\\io\\parsers\\readers.py\u001b[0m in \u001b[0;36m__init__\u001b[1;34m(self, f, engine, **kwds)\u001b[0m\n\u001b[0;32m    809\u001b[0m             \u001b[0mself\u001b[0m\u001b[1;33m.\u001b[0m\u001b[0moptions\u001b[0m\u001b[1;33m[\u001b[0m\u001b[1;34m\"has_index_names\"\u001b[0m\u001b[1;33m]\u001b[0m \u001b[1;33m=\u001b[0m \u001b[0mkwds\u001b[0m\u001b[1;33m[\u001b[0m\u001b[1;34m\"has_index_names\"\u001b[0m\u001b[1;33m]\u001b[0m\u001b[1;33m\u001b[0m\u001b[1;33m\u001b[0m\u001b[0m\n\u001b[0;32m    810\u001b[0m \u001b[1;33m\u001b[0m\u001b[0m\n\u001b[1;32m--> 811\u001b[1;33m         \u001b[0mself\u001b[0m\u001b[1;33m.\u001b[0m\u001b[0m_engine\u001b[0m \u001b[1;33m=\u001b[0m \u001b[0mself\u001b[0m\u001b[1;33m.\u001b[0m\u001b[0m_make_engine\u001b[0m\u001b[1;33m(\u001b[0m\u001b[0mself\u001b[0m\u001b[1;33m.\u001b[0m\u001b[0mengine\u001b[0m\u001b[1;33m)\u001b[0m\u001b[1;33m\u001b[0m\u001b[1;33m\u001b[0m\u001b[0m\n\u001b[0m\u001b[0;32m    812\u001b[0m \u001b[1;33m\u001b[0m\u001b[0m\n\u001b[0;32m    813\u001b[0m     \u001b[1;32mdef\u001b[0m \u001b[0mclose\u001b[0m\u001b[1;33m(\u001b[0m\u001b[0mself\u001b[0m\u001b[1;33m)\u001b[0m\u001b[1;33m:\u001b[0m\u001b[1;33m\u001b[0m\u001b[1;33m\u001b[0m\u001b[0m\n",
      "\u001b[1;32md:\\machine learning\\amit\\playground\\first_env\\lib\\site-packages\\pandas\\io\\parsers\\readers.py\u001b[0m in \u001b[0;36m_make_engine\u001b[1;34m(self, engine)\u001b[0m\n\u001b[0;32m   1038\u001b[0m             )\n\u001b[0;32m   1039\u001b[0m         \u001b[1;31m# error: Too many arguments for \"ParserBase\"\u001b[0m\u001b[1;33m\u001b[0m\u001b[1;33m\u001b[0m\u001b[1;33m\u001b[0m\u001b[0m\n\u001b[1;32m-> 1040\u001b[1;33m         \u001b[1;32mreturn\u001b[0m \u001b[0mmapping\u001b[0m\u001b[1;33m[\u001b[0m\u001b[0mengine\u001b[0m\u001b[1;33m]\u001b[0m\u001b[1;33m(\u001b[0m\u001b[0mself\u001b[0m\u001b[1;33m.\u001b[0m\u001b[0mf\u001b[0m\u001b[1;33m,\u001b[0m \u001b[1;33m**\u001b[0m\u001b[0mself\u001b[0m\u001b[1;33m.\u001b[0m\u001b[0moptions\u001b[0m\u001b[1;33m)\u001b[0m  \u001b[1;31m# type: ignore[call-arg]\u001b[0m\u001b[1;33m\u001b[0m\u001b[1;33m\u001b[0m\u001b[0m\n\u001b[0m\u001b[0;32m   1041\u001b[0m \u001b[1;33m\u001b[0m\u001b[0m\n\u001b[0;32m   1042\u001b[0m     \u001b[1;32mdef\u001b[0m \u001b[0m_failover_to_python\u001b[0m\u001b[1;33m(\u001b[0m\u001b[0mself\u001b[0m\u001b[1;33m)\u001b[0m\u001b[1;33m:\u001b[0m\u001b[1;33m\u001b[0m\u001b[1;33m\u001b[0m\u001b[0m\n",
      "\u001b[1;32md:\\machine learning\\amit\\playground\\first_env\\lib\\site-packages\\pandas\\io\\parsers\\c_parser_wrapper.py\u001b[0m in \u001b[0;36m__init__\u001b[1;34m(self, src, **kwds)\u001b[0m\n\u001b[0;32m     49\u001b[0m \u001b[1;33m\u001b[0m\u001b[0m\n\u001b[0;32m     50\u001b[0m         \u001b[1;31m# open handles\u001b[0m\u001b[1;33m\u001b[0m\u001b[1;33m\u001b[0m\u001b[1;33m\u001b[0m\u001b[0m\n\u001b[1;32m---> 51\u001b[1;33m         \u001b[0mself\u001b[0m\u001b[1;33m.\u001b[0m\u001b[0m_open_handles\u001b[0m\u001b[1;33m(\u001b[0m\u001b[0msrc\u001b[0m\u001b[1;33m,\u001b[0m \u001b[0mkwds\u001b[0m\u001b[1;33m)\u001b[0m\u001b[1;33m\u001b[0m\u001b[1;33m\u001b[0m\u001b[0m\n\u001b[0m\u001b[0;32m     52\u001b[0m         \u001b[1;32massert\u001b[0m \u001b[0mself\u001b[0m\u001b[1;33m.\u001b[0m\u001b[0mhandles\u001b[0m \u001b[1;32mis\u001b[0m \u001b[1;32mnot\u001b[0m \u001b[1;32mNone\u001b[0m\u001b[1;33m\u001b[0m\u001b[1;33m\u001b[0m\u001b[0m\n\u001b[0;32m     53\u001b[0m \u001b[1;33m\u001b[0m\u001b[0m\n",
      "\u001b[1;32md:\\machine learning\\amit\\playground\\first_env\\lib\\site-packages\\pandas\\io\\parsers\\base_parser.py\u001b[0m in \u001b[0;36m_open_handles\u001b[1;34m(self, src, kwds)\u001b[0m\n\u001b[0;32m    227\u001b[0m             \u001b[0mmemory_map\u001b[0m\u001b[1;33m=\u001b[0m\u001b[0mkwds\u001b[0m\u001b[1;33m.\u001b[0m\u001b[0mget\u001b[0m\u001b[1;33m(\u001b[0m\u001b[1;34m\"memory_map\"\u001b[0m\u001b[1;33m,\u001b[0m \u001b[1;32mFalse\u001b[0m\u001b[1;33m)\u001b[0m\u001b[1;33m,\u001b[0m\u001b[1;33m\u001b[0m\u001b[1;33m\u001b[0m\u001b[0m\n\u001b[0;32m    228\u001b[0m             \u001b[0mstorage_options\u001b[0m\u001b[1;33m=\u001b[0m\u001b[0mkwds\u001b[0m\u001b[1;33m.\u001b[0m\u001b[0mget\u001b[0m\u001b[1;33m(\u001b[0m\u001b[1;34m\"storage_options\"\u001b[0m\u001b[1;33m,\u001b[0m \u001b[1;32mNone\u001b[0m\u001b[1;33m)\u001b[0m\u001b[1;33m,\u001b[0m\u001b[1;33m\u001b[0m\u001b[1;33m\u001b[0m\u001b[0m\n\u001b[1;32m--> 229\u001b[1;33m             \u001b[0merrors\u001b[0m\u001b[1;33m=\u001b[0m\u001b[0mkwds\u001b[0m\u001b[1;33m.\u001b[0m\u001b[0mget\u001b[0m\u001b[1;33m(\u001b[0m\u001b[1;34m\"encoding_errors\"\u001b[0m\u001b[1;33m,\u001b[0m \u001b[1;34m\"strict\"\u001b[0m\u001b[1;33m)\u001b[0m\u001b[1;33m,\u001b[0m\u001b[1;33m\u001b[0m\u001b[1;33m\u001b[0m\u001b[0m\n\u001b[0m\u001b[0;32m    230\u001b[0m         )\n\u001b[0;32m    231\u001b[0m \u001b[1;33m\u001b[0m\u001b[0m\n",
      "\u001b[1;32md:\\machine learning\\amit\\playground\\first_env\\lib\\site-packages\\pandas\\io\\common.py\u001b[0m in \u001b[0;36mget_handle\u001b[1;34m(path_or_buf, mode, encoding, compression, memory_map, is_text, errors, storage_options)\u001b[0m\n\u001b[0;32m    705\u001b[0m                 \u001b[0mencoding\u001b[0m\u001b[1;33m=\u001b[0m\u001b[0mioargs\u001b[0m\u001b[1;33m.\u001b[0m\u001b[0mencoding\u001b[0m\u001b[1;33m,\u001b[0m\u001b[1;33m\u001b[0m\u001b[1;33m\u001b[0m\u001b[0m\n\u001b[0;32m    706\u001b[0m                 \u001b[0merrors\u001b[0m\u001b[1;33m=\u001b[0m\u001b[0merrors\u001b[0m\u001b[1;33m,\u001b[0m\u001b[1;33m\u001b[0m\u001b[1;33m\u001b[0m\u001b[0m\n\u001b[1;32m--> 707\u001b[1;33m                 \u001b[0mnewline\u001b[0m\u001b[1;33m=\u001b[0m\u001b[1;34m\"\"\u001b[0m\u001b[1;33m,\u001b[0m\u001b[1;33m\u001b[0m\u001b[1;33m\u001b[0m\u001b[0m\n\u001b[0m\u001b[0;32m    708\u001b[0m             )\n\u001b[0;32m    709\u001b[0m         \u001b[1;32melse\u001b[0m\u001b[1;33m:\u001b[0m\u001b[1;33m\u001b[0m\u001b[1;33m\u001b[0m\u001b[0m\n",
      "\u001b[1;31mFileNotFoundError\u001b[0m: [Errno 2] No such file or directory: 'application_record.csv'"
     ]
    }
   ],
   "source": [
    "df=pd.read_csv('application_record.csv')\n",
    "df.info()"
   ]
  },
  {
   "cell_type": "code",
   "execution_count": null,
   "id": "05727dbe",
   "metadata": {},
   "outputs": [],
   "source": [
    "df_copy=df.copy(deep=True)\n",
    "df_copy.head()"
   ]
  },
  {
   "cell_type": "code",
   "execution_count": null,
   "id": "c3309648",
   "metadata": {},
   "outputs": [],
   "source": [
    "pre.Information(df)"
   ]
  },
  {
   "cell_type": "code",
   "execution_count": null,
   "id": "6c034e43",
   "metadata": {},
   "outputs": [],
   "source": [
    "df.drop(['FLAG_MOBIL'],axis=1,inplace=True)\n",
    "df.head()"
   ]
  },
  {
   "cell_type": "code",
   "execution_count": null,
   "id": "02d13352",
   "metadata": {},
   "outputs": [],
   "source": [
    "sns.boxenplot(x=df['AMT_INCOME_TOTAL'],y=df['NAME_INCOME_TYPE'])"
   ]
  },
  {
   "cell_type": "code",
   "execution_count": null,
   "id": "11b39d04",
   "metadata": {},
   "outputs": [],
   "source": [
    "\n",
    "sns.lineplot(x=df_copy['NAME_INCOME_TYPE'], y=df_copy['AMT_INCOME_TOTAL'],data=df_copy,hue=df_copy['NAME_EDUCATION_TYPE'])"
   ]
  },
  {
   "cell_type": "code",
   "execution_count": null,
   "id": "151061d3",
   "metadata": {},
   "outputs": [],
   "source": [
    "df_copy['NAME_EDUCATION_TYPE'].unique()"
   ]
  },
  {
   "cell_type": "code",
   "execution_count": null,
   "id": "386c255c",
   "metadata": {},
   "outputs": [],
   "source": [
    "df['NAME_EDUCATION_TYPE'].unique()"
   ]
  },
  {
   "cell_type": "code",
   "execution_count": null,
   "id": "9a7ec6e2",
   "metadata": {},
   "outputs": [],
   "source": [
    "from sklearn import preprocessing\n",
    "label_encoder = preprocessing.LabelEncoder()\n",
    "\n",
    "df['NAME_EDUCATION_TYPE']= label_encoder.fit_transform(df['NAME_EDUCATION_TYPE'])\n",
    "df['NAME_EDUCATION_TYPE'].head() "
   ]
  },
  {
   "cell_type": "code",
   "execution_count": null,
   "id": "94192214",
   "metadata": {},
   "outputs": [],
   "source": [
    "df['NAME_EDUCATION_TYPE'].unique()"
   ]
  },
  {
   "cell_type": "code",
   "execution_count": null,
   "id": "4bdd8972",
   "metadata": {},
   "outputs": [],
   "source": [
    "df.sort_values(['AMT_INCOME_TOTAL','NAME_EDUCATION_TYPE'])"
   ]
  },
  {
   "cell_type": "code",
   "execution_count": null,
   "id": "a29c6246",
   "metadata": {},
   "outputs": [],
   "source": [
    "df_copy.groupby([\"NAME_EDUCATION_TYPE\"])[\"AMT_INCOME_TOTAL\"].describe()"
   ]
  },
  {
   "cell_type": "code",
   "execution_count": null,
   "id": "0be17fce",
   "metadata": {},
   "outputs": [],
   "source": [
    "df.groupby([\"NAME_FAMILY_STATUS\"])[\"AMT_INCOME_TOTAL\"].describe()"
   ]
  },
  {
   "cell_type": "code",
   "execution_count": null,
   "id": "9c270a67",
   "metadata": {},
   "outputs": [],
   "source": [
    "df['NAME_EDUCATION_TYPE'].value_counts()"
   ]
  },
  {
   "cell_type": "code",
   "execution_count": null,
   "id": "555ecd3e",
   "metadata": {},
   "outputs": [],
   "source": [
    "#here we noticed the correlation between education type & income "
   ]
  },
  {
   "cell_type": "code",
   "execution_count": null,
   "id": "70f42b56",
   "metadata": {},
   "outputs": [],
   "source": [
    "encode_cat={'NAME_EDUCATION_TYPE': {'Higher education':4, 'Secondary / secondary special':1,\n",
    "       'Incomplete higher':3, 'Lower secondary':2, 'Academic degree':5}, \n",
    "            'NAME_HOUSING_TYPE': {'Rented apartment':4, 'House / apartment':6, 'Municipal apartment':3,\n",
    "       'With parents':1, 'Co-op apartment':2, 'Office apartment':5},\n",
    "            'NAME_FAMILY_STATUS':{ 'Civil marriage':4, 'Married':5, 'Single / not married':3, 'Separated':2,\n",
    "       'Widow':1 },\n",
    "        'CODE_GENDER':{'M':1, 'F':0},\n",
    "           'FLAG_OWN_CAR':{'Y':1,'N':0},\n",
    "           'FLAG_OWN_REALTY':{'Y':1,'N':0},}\n"
   ]
  },
  {
   "cell_type": "code",
   "execution_count": null,
   "id": "f0d2a4aa",
   "metadata": {},
   "outputs": [],
   "source": [
    "df.replace(encode_cat,inplace=True)\n",
    "pre.Information(df)"
   ]
  },
  {
   "cell_type": "code",
   "execution_count": null,
   "id": "d6a1bb5e",
   "metadata": {},
   "outputs": [],
   "source": [
    "df.replace(df.NAME_EDUCATION_TYPE, encode_cat)\n",
    "df['NAME_EDUCATION_TYPE'].head(10)"
   ]
  },
  {
   "cell_type": "code",
   "execution_count": null,
   "id": "9db0d6e4",
   "metadata": {},
   "outputs": [],
   "source": [
    "df['NAME_FAMILY_STATUS'].unique()    "
   ]
  },
  {
   "cell_type": "code",
   "execution_count": null,
   "id": "693436f0",
   "metadata": {},
   "outputs": [],
   "source": [
    "df_copy[df_copy['AMT_INCOME_TOTAL']>4000000]"
   ]
  },
  {
   "cell_type": "code",
   "execution_count": null,
   "id": "39c10bea",
   "metadata": {},
   "outputs": [],
   "source": [
    "19341/365"
   ]
  },
  {
   "cell_type": "code",
   "execution_count": null,
   "id": "4a690341",
   "metadata": {},
   "outputs": [],
   "source": [
    "#import pandas_profiling as pp"
   ]
  },
  {
   "cell_type": "code",
   "execution_count": null,
   "id": "b4847f23",
   "metadata": {},
   "outputs": [],
   "source": []
  },
  {
   "cell_type": "code",
   "execution_count": null,
   "id": "352934d1",
   "metadata": {},
   "outputs": [],
   "source": []
  },
  {
   "cell_type": "code",
   "execution_count": null,
   "id": "c924962b",
   "metadata": {},
   "outputs": [],
   "source": []
  },
  {
   "cell_type": "code",
   "execution_count": null,
   "id": "9543ff7f",
   "metadata": {},
   "outputs": [],
   "source": []
  },
  {
   "cell_type": "code",
   "execution_count": null,
   "id": "8db40fe0",
   "metadata": {},
   "outputs": [],
   "source": []
  },
  {
   "cell_type": "code",
   "execution_count": null,
   "id": "1be18343",
   "metadata": {},
   "outputs": [],
   "source": []
  },
  {
   "cell_type": "code",
   "execution_count": null,
   "id": "be5ad08f",
   "metadata": {},
   "outputs": [],
   "source": []
  },
  {
   "cell_type": "code",
   "execution_count": null,
   "id": "ca8be91d",
   "metadata": {},
   "outputs": [],
   "source": []
  },
  {
   "cell_type": "code",
   "execution_count": 9,
   "id": "3726d639",
   "metadata": {},
   "outputs": [
    {
     "data": {
      "text/html": [
       "<div>\n",
       "<style scoped>\n",
       "    .dataframe tbody tr th:only-of-type {\n",
       "        vertical-align: middle;\n",
       "    }\n",
       "\n",
       "    .dataframe tbody tr th {\n",
       "        vertical-align: top;\n",
       "    }\n",
       "\n",
       "    .dataframe thead th {\n",
       "        text-align: right;\n",
       "    }\n",
       "</style>\n",
       "<table border=\"1\" class=\"dataframe\">\n",
       "  <thead>\n",
       "    <tr style=\"text-align: right;\">\n",
       "      <th></th>\n",
       "      <th>ID</th>\n",
       "      <th>MONTHS_BALANCE</th>\n",
       "      <th>STATUS</th>\n",
       "    </tr>\n",
       "  </thead>\n",
       "  <tbody>\n",
       "    <tr>\n",
       "      <th>0</th>\n",
       "      <td>5001711</td>\n",
       "      <td>0</td>\n",
       "      <td>X</td>\n",
       "    </tr>\n",
       "    <tr>\n",
       "      <th>1</th>\n",
       "      <td>5001711</td>\n",
       "      <td>-1</td>\n",
       "      <td>0</td>\n",
       "    </tr>\n",
       "    <tr>\n",
       "      <th>2</th>\n",
       "      <td>5001711</td>\n",
       "      <td>-2</td>\n",
       "      <td>0</td>\n",
       "    </tr>\n",
       "    <tr>\n",
       "      <th>3</th>\n",
       "      <td>5001711</td>\n",
       "      <td>-3</td>\n",
       "      <td>0</td>\n",
       "    </tr>\n",
       "    <tr>\n",
       "      <th>4</th>\n",
       "      <td>5001712</td>\n",
       "      <td>0</td>\n",
       "      <td>C</td>\n",
       "    </tr>\n",
       "  </tbody>\n",
       "</table>\n",
       "</div>"
      ],
      "text/plain": [
       "        ID  MONTHS_BALANCE STATUS\n",
       "0  5001711               0      X\n",
       "1  5001711              -1      0\n",
       "2  5001711              -2      0\n",
       "3  5001711              -3      0\n",
       "4  5001712               0      C"
      ]
     },
     "execution_count": 9,
     "metadata": {},
     "output_type": "execute_result"
    }
   ],
   "source": [
    "credit=pd.read_csv('credit_record.csv')\n",
    "credit.head()"
   ]
  },
  {
   "cell_type": "code",
   "execution_count": 10,
   "id": "734d075d",
   "metadata": {},
   "outputs": [
    {
     "data": {
      "text/html": [
       "<div>\n",
       "<style scoped>\n",
       "    .dataframe tbody tr th:only-of-type {\n",
       "        vertical-align: middle;\n",
       "    }\n",
       "\n",
       "    .dataframe tbody tr th {\n",
       "        vertical-align: top;\n",
       "    }\n",
       "\n",
       "    .dataframe thead th {\n",
       "        text-align: right;\n",
       "    }\n",
       "</style>\n",
       "<table border=\"1\" class=\"dataframe\">\n",
       "  <thead>\n",
       "    <tr style=\"text-align: right;\">\n",
       "      <th></th>\n",
       "      <th>ID</th>\n",
       "      <th>MONTHS_BALANCE</th>\n",
       "      <th>STATUS</th>\n",
       "    </tr>\n",
       "  </thead>\n",
       "  <tbody>\n",
       "    <tr>\n",
       "      <th>0</th>\n",
       "      <td>5001711</td>\n",
       "      <td>0</td>\n",
       "      <td>X</td>\n",
       "    </tr>\n",
       "    <tr>\n",
       "      <th>1</th>\n",
       "      <td>5001711</td>\n",
       "      <td>-1</td>\n",
       "      <td>0</td>\n",
       "    </tr>\n",
       "    <tr>\n",
       "      <th>2</th>\n",
       "      <td>5001711</td>\n",
       "      <td>-2</td>\n",
       "      <td>0</td>\n",
       "    </tr>\n",
       "    <tr>\n",
       "      <th>3</th>\n",
       "      <td>5001711</td>\n",
       "      <td>-3</td>\n",
       "      <td>0</td>\n",
       "    </tr>\n",
       "  </tbody>\n",
       "</table>\n",
       "</div>"
      ],
      "text/plain": [
       "        ID  MONTHS_BALANCE STATUS\n",
       "0  5001711               0      X\n",
       "1  5001711              -1      0\n",
       "2  5001711              -2      0\n",
       "3  5001711              -3      0"
      ]
     },
     "execution_count": 10,
     "metadata": {},
     "output_type": "execute_result"
    }
   ],
   "source": [
    "credit[credit['ID']==5001711]"
   ]
  },
  {
   "cell_type": "markdown",
   "id": "a515c597",
   "metadata": {},
   "source": [
    "# Multiple methods for encoding months_balance column"
   ]
  },
  {
   "cell_type": "code",
   "execution_count": 11,
   "id": "4ec5dbf7",
   "metadata": {},
   "outputs": [],
   "source": [
    "#Method 1 "
   ]
  },
  {
   "cell_type": "code",
   "execution_count": 12,
   "id": "054b41b0",
   "metadata": {},
   "outputs": [
    {
     "data": {
      "text/html": [
       "<div>\n",
       "<style scoped>\n",
       "    .dataframe tbody tr th:only-of-type {\n",
       "        vertical-align: middle;\n",
       "    }\n",
       "\n",
       "    .dataframe tbody tr th {\n",
       "        vertical-align: top;\n",
       "    }\n",
       "\n",
       "    .dataframe thead th {\n",
       "        text-align: right;\n",
       "    }\n",
       "</style>\n",
       "<table border=\"1\" class=\"dataframe\">\n",
       "  <thead>\n",
       "    <tr style=\"text-align: right;\">\n",
       "      <th></th>\n",
       "      <th>MONTHS_BALANCE</th>\n",
       "    </tr>\n",
       "    <tr>\n",
       "      <th>ID</th>\n",
       "      <th></th>\n",
       "    </tr>\n",
       "  </thead>\n",
       "  <tbody>\n",
       "    <tr>\n",
       "      <th>5001711</th>\n",
       "      <td>-6</td>\n",
       "    </tr>\n",
       "    <tr>\n",
       "      <th>5001712</th>\n",
       "      <td>-171</td>\n",
       "    </tr>\n",
       "    <tr>\n",
       "      <th>5001713</th>\n",
       "      <td>-231</td>\n",
       "    </tr>\n",
       "    <tr>\n",
       "      <th>5001714</th>\n",
       "      <td>-105</td>\n",
       "    </tr>\n",
       "    <tr>\n",
       "      <th>5001715</th>\n",
       "      <td>-1770</td>\n",
       "    </tr>\n",
       "    <tr>\n",
       "      <th>...</th>\n",
       "      <td>...</td>\n",
       "    </tr>\n",
       "    <tr>\n",
       "      <th>5150482</th>\n",
       "      <td>-351</td>\n",
       "    </tr>\n",
       "    <tr>\n",
       "      <th>5150483</th>\n",
       "      <td>-153</td>\n",
       "    </tr>\n",
       "    <tr>\n",
       "      <th>5150484</th>\n",
       "      <td>-78</td>\n",
       "    </tr>\n",
       "    <tr>\n",
       "      <th>5150485</th>\n",
       "      <td>-1</td>\n",
       "    </tr>\n",
       "    <tr>\n",
       "      <th>5150487</th>\n",
       "      <td>-435</td>\n",
       "    </tr>\n",
       "  </tbody>\n",
       "</table>\n",
       "<p>45985 rows × 1 columns</p>\n",
       "</div>"
      ],
      "text/plain": [
       "         MONTHS_BALANCE\n",
       "ID                     \n",
       "5001711              -6\n",
       "5001712            -171\n",
       "5001713            -231\n",
       "5001714            -105\n",
       "5001715           -1770\n",
       "...                 ...\n",
       "5150482            -351\n",
       "5150483            -153\n",
       "5150484             -78\n",
       "5150485              -1\n",
       "5150487            -435\n",
       "\n",
       "[45985 rows x 1 columns]"
      ]
     },
     "execution_count": 12,
     "metadata": {},
     "output_type": "execute_result"
    }
   ],
   "source": [
    "#Method 2 \n",
    "credit_sum=pd.DataFrame(credit.groupby([\"ID\"])[\"MONTHS_BALANCE\"].sum())\n",
    "\n",
    "credit_sum"
   ]
  },
  {
   "cell_type": "code",
   "execution_count": 13,
   "id": "84dfcb75",
   "metadata": {},
   "outputs": [
    {
     "ename": "TypeError",
     "evalue": "reset_index() got an unexpected keyword argument 'names'",
     "output_type": "error",
     "traceback": [
      "\u001b[1;31m---------------------------------------------------------------------------\u001b[0m",
      "\u001b[1;31mTypeError\u001b[0m                                 Traceback (most recent call last)",
      "\u001b[1;32m~\\AppData\\Local\\Temp/ipykernel_19824/1254863497.py\u001b[0m in \u001b[0;36m<module>\u001b[1;34m\u001b[0m\n\u001b[1;32m----> 1\u001b[1;33m \u001b[0mcredit\u001b[0m\u001b[1;33m.\u001b[0m\u001b[0mreset_index\u001b[0m\u001b[1;33m(\u001b[0m\u001b[0mnames\u001b[0m\u001b[1;33m=\u001b[0m\u001b[1;34m'ID'\u001b[0m\u001b[1;33m,\u001b[0m\u001b[0minplace\u001b[0m\u001b[1;33m=\u001b[0m\u001b[1;32mTrue\u001b[0m\u001b[1;33m,\u001b[0m\u001b[0mdrop\u001b[0m\u001b[1;33m=\u001b[0m\u001b[1;32mTrue\u001b[0m\u001b[1;33m)\u001b[0m\u001b[1;33m\u001b[0m\u001b[1;33m\u001b[0m\u001b[0m\n\u001b[0m\u001b[0;32m      2\u001b[0m \u001b[0mcredit\u001b[0m\u001b[1;33m.\u001b[0m\u001b[0mhead\u001b[0m\u001b[1;33m(\u001b[0m\u001b[1;33m)\u001b[0m\u001b[1;33m\u001b[0m\u001b[1;33m\u001b[0m\u001b[0m\n",
      "\u001b[1;32md:\\machine learning\\amit\\playground\\first_env\\lib\\site-packages\\pandas\\util\\_decorators.py\u001b[0m in \u001b[0;36mwrapper\u001b[1;34m(*args, **kwargs)\u001b[0m\n\u001b[0;32m    309\u001b[0m                     \u001b[0mstacklevel\u001b[0m\u001b[1;33m=\u001b[0m\u001b[0mstacklevel\u001b[0m\u001b[1;33m,\u001b[0m\u001b[1;33m\u001b[0m\u001b[1;33m\u001b[0m\u001b[0m\n\u001b[0;32m    310\u001b[0m                 )\n\u001b[1;32m--> 311\u001b[1;33m             \u001b[1;32mreturn\u001b[0m \u001b[0mfunc\u001b[0m\u001b[1;33m(\u001b[0m\u001b[1;33m*\u001b[0m\u001b[0margs\u001b[0m\u001b[1;33m,\u001b[0m \u001b[1;33m**\u001b[0m\u001b[0mkwargs\u001b[0m\u001b[1;33m)\u001b[0m\u001b[1;33m\u001b[0m\u001b[1;33m\u001b[0m\u001b[0m\n\u001b[0m\u001b[0;32m    312\u001b[0m \u001b[1;33m\u001b[0m\u001b[0m\n\u001b[0;32m    313\u001b[0m         \u001b[1;32mreturn\u001b[0m \u001b[0mwrapper\u001b[0m\u001b[1;33m\u001b[0m\u001b[1;33m\u001b[0m\u001b[0m\n",
      "\u001b[1;31mTypeError\u001b[0m: reset_index() got an unexpected keyword argument 'names'"
     ]
    }
   ],
   "source": [
    "credit.reset_index(names='ID',inplace=True,drop=True)\n",
    "credit.head()"
   ]
  },
  {
   "cell_type": "code",
   "execution_count": 14,
   "id": "bcfec016",
   "metadata": {},
   "outputs": [],
   "source": [
    "#make new column total status encoded\n",
    "#credit['sum_status']=pd.DataFrame(credit.groupby([\"ID\"])[\"\"].sum())\n",
    "credit_encode={'STATUS':{'0':1,'1':2,'2':3,'3':4,'4':5,'5':6,'X':0,'C':0}}\n",
    "#for i,j in range(credit):\n",
    "    #if credit[credit['ID']]=='0':\n",
    "credit.replace(credit_encode,inplace=True)    \n",
    "#0: 1-29 days past due 1: 30-59 days past due 2: 60-89 days overdue 3: 90-119 days overdue 4: 120-149 days overdue 5: Overdue or bad debts, write-offs for more than 150 days C: paid off that month X: No loan for the month"
   ]
  },
  {
   "cell_type": "code",
   "execution_count": 15,
   "id": "d9c9d754",
   "metadata": {},
   "outputs": [
    {
     "data": {
      "text/plain": [
       "array([0, 1, 2, 3, 4, 5, 6], dtype=int64)"
      ]
     },
     "execution_count": 15,
     "metadata": {},
     "output_type": "execute_result"
    }
   ],
   "source": [
    "credit['STATUS'].unique()"
   ]
  },
  {
   "cell_type": "code",
   "execution_count": 16,
   "id": "3b8490c8",
   "metadata": {},
   "outputs": [
    {
     "data": {
      "text/html": [
       "<div>\n",
       "<style scoped>\n",
       "    .dataframe tbody tr th:only-of-type {\n",
       "        vertical-align: middle;\n",
       "    }\n",
       "\n",
       "    .dataframe tbody tr th {\n",
       "        vertical-align: top;\n",
       "    }\n",
       "\n",
       "    .dataframe thead tr th {\n",
       "        text-align: left;\n",
       "    }\n",
       "\n",
       "    .dataframe thead tr:last-of-type th {\n",
       "        text-align: right;\n",
       "    }\n",
       "</style>\n",
       "<table border=\"1\" class=\"dataframe\">\n",
       "  <thead>\n",
       "    <tr>\n",
       "      <th></th>\n",
       "      <th></th>\n",
       "      <th>speed</th>\n",
       "      <th>species</th>\n",
       "    </tr>\n",
       "    <tr>\n",
       "      <th></th>\n",
       "      <th></th>\n",
       "      <th>max</th>\n",
       "      <th>type</th>\n",
       "    </tr>\n",
       "    <tr>\n",
       "      <th>class</th>\n",
       "      <th>name</th>\n",
       "      <th></th>\n",
       "      <th></th>\n",
       "    </tr>\n",
       "  </thead>\n",
       "  <tbody>\n",
       "    <tr>\n",
       "      <th rowspan=\"2\" valign=\"top\">bird</th>\n",
       "      <th>falcon</th>\n",
       "      <td>389.0</td>\n",
       "      <td>fly</td>\n",
       "    </tr>\n",
       "    <tr>\n",
       "      <th>parrot</th>\n",
       "      <td>24.0</td>\n",
       "      <td>fly</td>\n",
       "    </tr>\n",
       "    <tr>\n",
       "      <th rowspan=\"2\" valign=\"top\">mammal</th>\n",
       "      <th>lion</th>\n",
       "      <td>80.5</td>\n",
       "      <td>run</td>\n",
       "    </tr>\n",
       "    <tr>\n",
       "      <th>monkey</th>\n",
       "      <td>NaN</td>\n",
       "      <td>jump</td>\n",
       "    </tr>\n",
       "  </tbody>\n",
       "</table>\n",
       "</div>"
      ],
      "text/plain": [
       "               speed species\n",
       "                 max    type\n",
       "class  name                 \n",
       "bird   falcon  389.0     fly\n",
       "       parrot   24.0     fly\n",
       "mammal lion     80.5     run\n",
       "       monkey    NaN    jump"
      ]
     },
     "execution_count": 16,
     "metadata": {},
     "output_type": "execute_result"
    }
   ],
   "source": [
    "index = pd.MultiIndex.from_tuples([('bird', 'falcon'),\n",
    "                                   ('bird', 'parrot'),\n",
    "                                   ('mammal', 'lion'),\n",
    "                                   ('mammal', 'monkey')],\n",
    "                                  names=['class', 'name'])\n",
    "columns = pd.MultiIndex.from_tuples([('speed', 'max'),\n",
    "                                     ('species', 'type')])\n",
    "df = pd.DataFrame([(389.0, 'fly'),\n",
    "                   (24.0, 'fly'),\n",
    "                   (80.5, 'run'),\n",
    "                   (np.nan, 'jump')],\n",
    "                  index=index,\n",
    "                  columns=columns)\n",
    "df"
   ]
  },
  {
   "cell_type": "code",
   "execution_count": null,
   "id": "63e89961",
   "metadata": {},
   "outputs": [],
   "source": []
  },
  {
   "cell_type": "code",
   "execution_count": null,
   "id": "ac62b0db",
   "metadata": {},
   "outputs": [],
   "source": []
  },
  {
   "cell_type": "code",
   "execution_count": null,
   "id": "9bc8c431",
   "metadata": {},
   "outputs": [],
   "source": []
  },
  {
   "cell_type": "code",
   "execution_count": null,
   "id": "03cd69ce",
   "metadata": {},
   "outputs": [],
   "source": []
  }
 ],
 "metadata": {
  "kernelspec": {
   "display_name": "Python 3 (ipykernel)",
   "language": "python",
   "name": "python3"
  },
  "language_info": {
   "codemirror_mode": {
    "name": "ipython",
    "version": 3
   },
   "file_extension": ".py",
   "mimetype": "text/x-python",
   "name": "python",
   "nbconvert_exporter": "python",
   "pygments_lexer": "ipython3",
   "version": "3.7.8"
  }
 },
 "nbformat": 4,
 "nbformat_minor": 5
}
