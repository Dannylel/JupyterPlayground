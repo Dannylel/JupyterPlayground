{
 "cells": [
  {
   "cell_type": "code",
   "execution_count": 1,
   "id": "872f5ed6",
   "metadata": {},
   "outputs": [],
   "source": [
    "import pandas as pd\n",
    "import numpy as np\n",
    "import matplotlib.pyplot as plt\n",
    "import seaborn as sns\n"
   ]
  },
  {
   "cell_type": "code",
   "execution_count": 2,
   "id": "fd3f6c8e",
   "metadata": {
    "scrolled": true
   },
   "outputs": [
    {
     "data": {
      "text/html": [
       "<div>\n",
       "<style scoped>\n",
       "    .dataframe tbody tr th:only-of-type {\n",
       "        vertical-align: middle;\n",
       "    }\n",
       "\n",
       "    .dataframe tbody tr th {\n",
       "        vertical-align: top;\n",
       "    }\n",
       "\n",
       "    .dataframe thead th {\n",
       "        text-align: right;\n",
       "    }\n",
       "</style>\n",
       "<table border=\"1\" class=\"dataframe\">\n",
       "  <thead>\n",
       "    <tr style=\"text-align: right;\">\n",
       "      <th></th>\n",
       "      <th>CustomerID</th>\n",
       "      <th>Genre</th>\n",
       "      <th>Age</th>\n",
       "      <th>Annual Income (k$)</th>\n",
       "      <th>Spending Score (1-100)</th>\n",
       "    </tr>\n",
       "  </thead>\n",
       "  <tbody>\n",
       "    <tr>\n",
       "      <th>0</th>\n",
       "      <td>1</td>\n",
       "      <td>Male</td>\n",
       "      <td>19</td>\n",
       "      <td>15</td>\n",
       "      <td>39</td>\n",
       "    </tr>\n",
       "    <tr>\n",
       "      <th>1</th>\n",
       "      <td>2</td>\n",
       "      <td>Male</td>\n",
       "      <td>21</td>\n",
       "      <td>15</td>\n",
       "      <td>81</td>\n",
       "    </tr>\n",
       "    <tr>\n",
       "      <th>2</th>\n",
       "      <td>3</td>\n",
       "      <td>Female</td>\n",
       "      <td>20</td>\n",
       "      <td>16</td>\n",
       "      <td>6</td>\n",
       "    </tr>\n",
       "    <tr>\n",
       "      <th>3</th>\n",
       "      <td>4</td>\n",
       "      <td>Female</td>\n",
       "      <td>23</td>\n",
       "      <td>16</td>\n",
       "      <td>77</td>\n",
       "    </tr>\n",
       "    <tr>\n",
       "      <th>4</th>\n",
       "      <td>5</td>\n",
       "      <td>Female</td>\n",
       "      <td>31</td>\n",
       "      <td>17</td>\n",
       "      <td>40</td>\n",
       "    </tr>\n",
       "  </tbody>\n",
       "</table>\n",
       "</div>"
      ],
      "text/plain": [
       "   CustomerID   Genre  Age  Annual Income (k$)  Spending Score (1-100)\n",
       "0           1    Male   19                  15                      39\n",
       "1           2    Male   21                  15                      81\n",
       "2           3  Female   20                  16                       6\n",
       "3           4  Female   23                  16                      77\n",
       "4           5  Female   31                  17                      40"
      ]
     },
     "execution_count": 2,
     "metadata": {},
     "output_type": "execute_result"
    }
   ],
   "source": [
    "data = pd.read_csv(r'C:\\Users\\Dan\\Downloads\\Mall_Customers.csv')\n",
    "data.head()"
   ]
  },
  {
   "cell_type": "code",
   "execution_count": 4,
   "id": "e6f7cf10",
   "metadata": {},
   "outputs": [],
   "source": [
    "X=data.iloc[:,[3,4]].values"
   ]
  },
  {
   "cell_type": "code",
   "execution_count": 5,
   "id": "88094049",
   "metadata": {},
   "outputs": [
    {
     "data": {
      "text/plain": [
       "(200, 2)"
      ]
     },
     "execution_count": 5,
     "metadata": {},
     "output_type": "execute_result"
    }
   ],
   "source": [
    "X.shape"
   ]
  },
  {
   "cell_type": "code",
   "execution_count": 8,
   "id": "39c7e8f1",
   "metadata": {},
   "outputs": [],
   "source": [
    "from sklearn.cluster import DBSCAN"
   ]
  },
  {
   "cell_type": "code",
   "execution_count": 10,
   "id": "89d2062f",
   "metadata": {},
   "outputs": [
    {
     "data": {
      "text/plain": [
       "DBSCAN(eps=4, min_samples=4)"
      ]
     },
     "execution_count": 10,
     "metadata": {},
     "output_type": "execute_result"
    }
   ],
   "source": [
    "epsilon=5.8\n",
    "dbscan= DBSCAN(eps=4,min_samples=4,metric='euclidean')\n",
    "dbscan.fit(X)"
   ]
  },
  {
   "cell_type": "code",
   "execution_count": 11,
   "id": "ee9a78d7",
   "metadata": {},
   "outputs": [
    {
     "data": {
      "text/plain": [
       "array([-1, -1, -1,  0, -1,  0, -1, -1, -1, -1, -1, -1, -1,  0, -1,  0, -1,\n",
       "       -1, -1, -1, -1, -1, -1, -1, -1, -1, -1, -1, -1, -1, -1, -1, -1, -1,\n",
       "       -1, -1, -1, -1, -1, -1, -1, -1, -1, -1, -1, -1,  1,  1,  1,  1,  1,\n",
       "       -1,  1, -1,  1,  1,  1,  1,  1,  1,  1,  1,  1,  1,  1,  1,  1,  1,\n",
       "        1,  1,  1, -1,  1,  1,  2,  2,  2,  2,  2,  2,  2,  2,  2,  2,  2,\n",
       "        2,  2,  2,  2,  2,  2,  2,  2,  2,  2,  2,  2,  2,  2,  2,  2,  2,\n",
       "        2,  2,  2,  2,  2,  2,  2,  2,  2,  2,  2,  2,  2,  2,  2,  2,  2,\n",
       "        2,  2,  2,  2, -1, -1,  3, -1, -1,  4,  3,  4,  3, -1,  3,  4,  5,\n",
       "        4,  3,  4,  3,  4, -1, -1,  5,  4, -1, -1,  3,  6,  5,  6,  5,  6,\n",
       "        3,  6,  5, -1,  3, -1,  3, -1, -1, -1, -1, -1, -1, -1, -1, -1, -1,\n",
       "        7, -1,  7, -1,  7, -1,  7, -1, -1, -1, -1, -1, -1, -1, -1, -1, -1,\n",
       "       -1, -1, -1, -1, -1, -1, -1, -1, -1, -1, -1, -1, -1], dtype=int64)"
      ]
     },
     "execution_count": 11,
     "metadata": {},
     "output_type": "execute_result"
    }
   ],
   "source": [
    "dbscan.labels_"
   ]
  },
  {
   "cell_type": "code",
   "execution_count": 12,
   "id": "8510b1a7",
   "metadata": {},
   "outputs": [],
   "source": [
    "#mPoints\n",
    "mpints=4"
   ]
  },
  {
   "cell_type": "code",
   "execution_count": 13,
   "id": "a41ecf58",
   "metadata": {},
   "outputs": [],
   "source": [
    "#epsilon\n",
    "from sklearn.neighbors import NearestNeighbors\n",
    "neighbors=NearestNeighbors(n_neighbors=mpints-1)"
   ]
  },
  {
   "cell_type": "code",
   "execution_count": 14,
   "id": "589e6b26",
   "metadata": {},
   "outputs": [],
   "source": [
    "neighborsfit=neighbors.fit(X)"
   ]
  },
  {
   "cell_type": "code",
   "execution_count": 15,
   "id": "c69fe564",
   "metadata": {},
   "outputs": [],
   "source": [
    "distance,_=neighborsfit.kneighbors(X)"
   ]
  },
  {
   "cell_type": "code",
   "execution_count": 16,
   "id": "3d6c9943",
   "metadata": {},
   "outputs": [
    {
     "data": {
      "text/plain": [
       "(200, 3)"
      ]
     },
     "execution_count": 16,
     "metadata": {},
     "output_type": "execute_result"
    }
   ],
   "source": [
    "distance.shape"
   ]
  },
  {
   "cell_type": "code",
   "execution_count": 17,
   "id": "8a1cbeb1",
   "metadata": {},
   "outputs": [],
   "source": [
    "distance=np.mean(distance, axis=1)"
   ]
  },
  {
   "cell_type": "code",
   "execution_count": 18,
   "id": "32c6d7af",
   "metadata": {
    "scrolled": true
   },
   "outputs": [
    {
     "data": {
      "text/plain": [
       "array([ 3.14905684,  3.16942348,  2.08088023,  1.80473785,  2.87973074,\n",
       "        1.52549707,  1.72075922,  3.83404792,  2.46830612,  3.19038516,\n",
       "        0.94280904,  3.07404171,  1.13807119,  1.72075922,  1.13807119,\n",
       "        2.08088023,  3.10818511,  4.64677614,  3.97123814,  3.50874329,\n",
       "        2.66666667,  2.0330065 ,  3.80785828,  2.        ,  3.90273464,\n",
       "        3.39934634,  2.13807119,  6.53410842,  2.57958963,  3.83404792,\n",
       "        2.69967317,  3.        ,  3.68741925,  3.80104141,  2.72075922,\n",
       "        4.10337402,  3.29016053,  2.53518376,  3.96127075,  3.60555128,\n",
       "        2.82842712,  5.09854338,  2.49899203,  2.38742589,  3.29983165,\n",
       "        3.27698396,  2.25594298,  2.57621897,  1.05409255,  1.05409255,\n",
       "        1.68816503,  1.38742589,  1.79944855,  1.70770188,  1.52549707,\n",
       "        2.10818511,  1.68816503,  1.13807119,  1.13807119,  1.41202266,\n",
       "        1.38742589,  1.33333333,  0.94280904,  0.66666667,  0.80473785,\n",
       "        0.33333333,  1.        ,  1.        ,  0.33333333,  1.07868933,\n",
       "        1.47140452,  3.33333333,  1.49071198,  1.67325495,  0.66666667,\n",
       "        0.66666667,  0.66666667,  1.        ,  0.66666667,  1.        ,\n",
       "        1.        ,  1.        ,  1.33333333,  1.33333333,  1.66666667,\n",
       "        1.        ,  1.74535599,  1.66666667,  2.11972453,  1.94720642,\n",
       "        1.66666667,  0.94280904,  0.66666667,  1.13807119,  0.80473785,\n",
       "        1.66666667,  1.41202266,  0.80473785,  0.66666667,  0.80473785,\n",
       "        0.80473785,  0.80473785,  2.        ,  0.80473785,  1.07868933,\n",
       "        0.66666667,  1.33333333,  1.        ,  0.94280904,  1.        ,\n",
       "        1.33333333,  1.13807119,  0.94280904,  1.07868933,  1.33333333,\n",
       "        1.33333333,  1.13807119,  1.94280904,  1.66666667,  1.07868933,\n",
       "        1.27614237,  2.20185043,  1.68816503,  3.15737865,  3.82264245,\n",
       "        1.49071198,  2.49899203,  2.98142397,  1.72075922,  0.74535599,\n",
       "        1.60947571,  0.74535599,  2.26645946,  1.49071198,  1.33333333,\n",
       "        2.72075922,  1.60947571,  1.21676051,  2.10818511,  1.21676051,\n",
       "        1.60947571,  2.90492555,  3.31801917,  1.68816503,  2.57621897,\n",
       "        3.37633007,  2.11972453,  1.21676051,  2.33333333,  1.        ,\n",
       "        1.33333333,  1.        ,  1.66666667,  1.41202266,  1.66666667,\n",
       "        0.66666667,  1.66666667,  2.04103521,  1.66666667,  1.47140452,\n",
       "        2.68900662,  3.36633984,  3.33333333,  3.08088023,  2.7729435 ,\n",
       "        2.90273464,  3.82264245,  2.84914749,  3.1023786 ,  6.02758751,\n",
       "        1.07868933,  2.69425418,  2.05409255,  3.08168006,  1.        ,\n",
       "        4.16196226,  1.41202266,  4.05517502,  3.39934634,  3.68067302,\n",
       "        5.40812727,  2.63097408,  3.49472811,  2.54041093,  7.47095195,\n",
       "        6.0916432 ,  3.17205929,  5.09149093,  3.79505494,  3.97123814,\n",
       "        2.74535599,  5.74535599,  8.02792329,  8.51811593,  8.01551789,\n",
       "        7.23423122,  9.4274922 ,  7.34097336, 10.66110384, 10.5589732 ])"
      ]
     },
     "execution_count": 18,
     "metadata": {},
     "output_type": "execute_result"
    }
   ],
   "source": [
    "distance"
   ]
  },
  {
   "cell_type": "code",
   "execution_count": 19,
   "id": "e2224e3f",
   "metadata": {},
   "outputs": [],
   "source": [
    "distance=sorted(distance)"
   ]
  },
  {
   "cell_type": "code",
   "execution_count": 20,
   "id": "fd7cf649",
   "metadata": {},
   "outputs": [
    {
     "data": {
      "text/plain": [
       "[<matplotlib.lines.Line2D at 0x1f8454f9d88>]"
      ]
     },
     "execution_count": 20,
     "metadata": {},
     "output_type": "execute_result"
    },
    {
     "data": {
      "image/png": "[encoded data removed]",
      "text/plain": [
       "<Figure size 432x288 with 1 Axes>"
      ]
     },
     "metadata": {
      "needs_background": "light"
     },
     "output_type": "display_data"
    }
   ],
   "source": [
    "plt.plot(distance)"
   ]
  },
  {
   "cell_type": "code",
   "execution_count": 21,
   "id": "11a13073",
   "metadata": {},
   "outputs": [],
   "source": [
    "labels=dbscan.labels_\n",
    "\n"
   ]
  },
  {
   "cell_type": "code",
   "execution_count": 23,
   "id": "2361f0fa",
   "metadata": {},
   "outputs": [
    {
     "data": {
      "image/png": "[encoded data removed]",
      "text/plain": [
       "<Figure size 432x288 with 1 Axes>"
      ]
     },
     "metadata": {
      "needs_background": "light"
     },
     "output_type": "display_data"
    }
   ],
   "source": [
    "plt.scatter(X[labels==0,0],X[labels==0,1],s=100, c='red',label='cluster1')\n",
    "plt.scatter(X[labels==1,0],X[labels==1,1],s=100, c='blue',label='cluster2')\n",
    "plt.scatter(X[labels==2,0],X[labels==2,1],s=100, c='green',label='cluster3')\n",
    "plt.scatter(X[labels==3,0],X[labels==3,1],s=100, c='cyan',label='cluster4')\n",
    "plt.scatter(X[labels==4,0],X[labels==4,1],s=100, c='magenta',label='cluster5')\n",
    "plt.scatter(X[labels==5,0],X[labels==5,1],s=100, c='orange',label='cluster6')\n",
    "plt.scatter(X[labels==6,0],X[labels==6,1],s=100, c='black',label='cluster7')\n",
    "plt.scatter(X[labels==7,0],X[labels==7,1],s=100, c='yellow',label='cluster8')\n",
    "plt.scatter(X[labels==8,0],X[labels==8,1],s=100, c='yellow',label='cluster8')\n",
    "\n",
    "\n",
    "plt.scatter(X[labels==-1,0],X[labels==-1,1],s=100, c='gray', label='outliers')\n",
    "\n",
    "plt.title('Customer Cluster')\n",
    "plt.xlabel('Annual Income')\n",
    "plt.ylabel('Spending Score')\n",
    "plt.show()"
   ]
  },
  {
   "cell_type": "code",
   "execution_count": 25,
   "id": "7184bc45",
   "metadata": {},
   "outputs": [
    {
     "name": "stdout",
     "output_type": "stream",
     "text": [
      "-0.014307829164286037\n"
     ]
    }
   ],
   "source": [
    "from sklearn.metrics import silhouette_score\n",
    "print(silhouette_score(X, labels))"
   ]
  },
  {
   "cell_type": "code",
   "execution_count": null,
   "id": "2ac1de4a",
   "metadata": {},
   "outputs": [],
   "source": []
  },
  {
   "cell_type": "code",
   "execution_count": null,
   "id": "79727fe2",
   "metadata": {},
   "outputs": [],
   "source": []
  },
  {
   "cell_type": "code",
   "execution_count": null,
   "id": "c1f519ba",
   "metadata": {},
   "outputs": [],
   "source": []
  }
 ],
 "metadata": {
  "kernelspec": {
   "display_name": "Python 3 (ipykernel)",
   "language": "python",
   "name": "python3"
  },
  "language_info": {
   "codemirror_mode": {
    "name": "ipython",
    "version": 3
   },
   "file_extension": ".py",
   "mimetype": "text/x-python",
   "name": "python",
   "nbconvert_exporter": "python",
   "pygments_lexer": "ipython3",
   "version": "3.7.8"
  }
 },
 "nbformat": 4,
 "nbformat_minor": 5
}
